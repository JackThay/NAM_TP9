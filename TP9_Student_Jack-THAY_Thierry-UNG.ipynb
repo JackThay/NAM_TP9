{
 "cells": [
  {
   "cell_type": "markdown",
   "metadata": {},
   "source": [
    "# TP9 (Student version): link prediction using rankings\n",
    "\n",
    "## Students:\n",
    "## Jack Thay - 21201079\n",
    "## Thierry Ung - 3804472\n",
    "\n",
    "We can use the following libraries."
   ]
  },
  {
   "cell_type": "code",
   "execution_count": 1,
   "metadata": {},
   "outputs": [
    {
     "name": "stdout",
     "output_type": "stream",
     "text": [
      "3.10.11 (tags/v3.10.11:7d4cc5a, Apr  5 2023, 00:38:17) [MSC v.1929 64 bit (AMD64)]\n"
     ]
    }
   ],
   "source": [
    "import matplotlib.pyplot as plt\n",
    "%matplotlib inline\n",
    "import numpy as np\n",
    "import math\n",
    "import sys\n",
    "import random\n",
    "import time\n",
    "import copy\n",
    "import itertools\n",
    "print(sys.version)"
   ]
  },
  {
   "cell_type": "markdown",
   "metadata": {},
   "source": [
    "## Data"
   ]
  },
  {
   "cell_type": "markdown",
   "metadata": {},
   "source": [
    "The dataset that we use is an old online social network of hamster lovers called *hamsterer*. The links of the dataset are friendship links among users. Download from Moodle the datasets :\n",
    "\n",
    "- hamsterer_train.txt , this is the training dataset that we use to order pairs of nodes (roughly 90% of the full data)\n",
    "\n",
    "- hamsterer_test.txt , this is the test dataset that is the set of \"missing links\" that we are supposed to discover using a link prediction method (roughly 10% of the data).\n",
    "\n",
    "You can load both datasets as dictionary of lists as usual."
   ]
  },
  {
   "cell_type": "code",
   "execution_count": 2,
   "metadata": {},
   "outputs": [],
   "source": [
    "# Code taken from our TP1\n",
    "\n",
    "def load_graph(filename):\n",
    "    # Initialize an empty dictionary for the adjacency list.\n",
    "    adjacency_list = {}\n",
    "    \n",
    "    # Open the specified file for reading.\n",
    "    with open(filename, 'r') as file:\n",
    "        # Loop through each line in the file.\n",
    "        for line in file:\n",
    "            # Check if the line does not start with '#' (comments)\n",
    "            if not line.startswith('#'):\n",
    "                # Split the line into two nodes representing an edge.\n",
    "                edge_info = line.strip().split()\n",
    "                node1, node2 = edge_info[0], edge_info[1]\n",
    "                # Check if node1 is not already in the adjacency list.\n",
    "                if node1 not in adjacency_list:\n",
    "                    # Initialize an empty list for node1 in the adjacency list.\n",
    "                    adjacency_list[node1] = []\n",
    "                # Check if node2 is not already in the adjacency list.\n",
    "                if node2 not in adjacency_list:\n",
    "                    # Initialize an empty list for node2 in the adjacency list.\n",
    "                    adjacency_list[node2] = []\n",
    "                # Add node2 to the adjacency list of node1 (representing an undirected edge).\n",
    "                adjacency_list[node1].append(node2)\n",
    "                # Add node1 to the adjacency list of node2 (since it's an undirected edge).\n",
    "                adjacency_list[node2].append(node1)\n",
    "\n",
    "    # Return the adjacency list representing the undirected graph.\n",
    "    return adjacency_list"
   ]
  },
  {
   "cell_type": "code",
   "execution_count": 3,
   "metadata": {},
   "outputs": [],
   "source": [
    "filename = 'hamsterer_train.txt'\n",
    "hamsterer_train_graph = load_graph(filename)"
   ]
  },
  {
   "cell_type": "code",
   "execution_count": 4,
   "metadata": {},
   "outputs": [],
   "source": [
    "filename = 'hamsterer_test.txt'\n",
    "hamsterer_test_graph = load_graph(filename)"
   ]
  },
  {
   "cell_type": "markdown",
   "metadata": {},
   "source": [
    "## Exercise 1: Features for link prediction"
   ]
  },
  {
   "cell_type": "markdown",
   "metadata": {},
   "source": [
    "### Question 1\n",
    "\n",
    "1) Make a function that, given a pair of nodes $ (i,j) $ in the network, computes the number of Common Neighbors (CN) between these two nodes.\n",
    "\n",
    "2) Do the same thing for the preferential attachment index of $ (i,j) $, we remind that\n",
    "$$ PA(i,j) = |N(i)|.|N(j)| $$\n",
    "\n",
    "3) Do the same thing for the Adamic-Adar index of $ (i,j) $, we remind that\n",
    "$$ AA(i,j) = \\sum _{k \\in N(i) \\cap N(j)} \\frac{1}{log(d_k)} $$\n",
    "\n",
    "where $ N(i) $ is the neighborhood of node $i$ and $ d_k $ the degree of node $k$."
   ]
  },
  {
   "cell_type": "code",
   "execution_count": 5,
   "metadata": {},
   "outputs": [],
   "source": [
    "def common_neighbors(graph, i, j):\n",
    "    neighbors_i = set(graph[i])\n",
    "    neighbors_j = set(graph[j])\n",
    "    return len(neighbors_i.intersection(neighbors_j))"
   ]
  },
  {
   "cell_type": "code",
   "execution_count": 6,
   "metadata": {},
   "outputs": [],
   "source": [
    "def preferential_attachment(graph, i, j):\n",
    "    degree_i = len(graph[i])\n",
    "    degree_j = len(graph[j])\n",
    "    return degree_i * degree_j"
   ]
  },
  {
   "cell_type": "code",
   "execution_count": 7,
   "metadata": {},
   "outputs": [],
   "source": [
    "def adamic_adar(graph, i, j):\n",
    "    neighbors_i = set(graph[i])\n",
    "    neighbors_j = set(graph[j])\n",
    "    common_neighbors = neighbors_i.intersection(neighbors_j)\n",
    "    \n",
    "    adamic_adar_index = 0\n",
    "    for k in common_neighbors:\n",
    "        degree_k = len(graph[k])\n",
    "        adamic_adar_index += 1 / math.log(degree_k) if degree_k > 1 else 0  # Avoid division by zero\n",
    "    \n",
    "    return adamic_adar_index"
   ]
  },
  {
   "cell_type": "code",
   "execution_count": 8,
   "metadata": {},
   "outputs": [
    {
     "name": "stdout",
     "output_type": "stream",
     "text": [
      "Common Neighbors between nodes 490 and 211: 4\n",
      "Preferential Attachment between nodes 490 and 211: 1512\n",
      "Adamic-Adar Index between nodes 490 and 211: 0.8197035060018205\n"
     ]
    }
   ],
   "source": [
    "# Example usage\n",
    "i, j = '490', '211'  # Assuming node labels are strings in the graph\n",
    "\n",
    "# Common Neighbors\n",
    "cn = common_neighbors(hamsterer_train_graph, i, j)\n",
    "print(f\"Common Neighbors between nodes {i} and {j}: {cn}\")\n",
    "\n",
    "# Preferential Attachment\n",
    "pa = preferential_attachment(hamsterer_train_graph, i, j)\n",
    "print(f\"Preferential Attachment between nodes {i} and {j}: {pa}\")\n",
    "\n",
    "# Adamic-Adar Index\n",
    "aa = adamic_adar(hamsterer_train_graph, i, j)\n",
    "print(f\"Adamic-Adar Index between nodes {i} and {j}: {aa}\")"
   ]
  },
  {
   "cell_type": "markdown",
   "metadata": {},
   "source": [
    "### Question 2\n",
    "\n",
    "Select 10000 pairs of nodes randomly in the training dataset.\n",
    "\n",
    "1) Plot the corresponding data points in a $AA$ vs $PA$ space with a red point if the edge exists and a blue point if it doesn't (as in the course). For readability purposes, you should use logarithmic scales.\n",
    "\n",
    "2) Can you compare the number of unconnected pairs in the plot to the number of connected pairs? What is the name of the phenomenon that we have described in the course and that this plot shows?\n",
    "\n",
    "3) Do you think that a $k$-nearest neighbor method would work well with these features? Explain why briefly?"
   ]
  },
  {
   "cell_type": "code",
   "execution_count": 9,
   "metadata": {},
   "outputs": [],
   "source": [
    "def select_random_pairs(graph, num_pairs):\n",
    "    nodes = list(graph.keys())    \n",
    "    pairs = []\n",
    "    \n",
    "    for _ in range(num_pairs):\n",
    "        pair = (random.choice(nodes), random.choice(nodes))\n",
    "        pairs.append(pair)\n",
    "\n",
    "    return pairs"
   ]
  },
  {
   "cell_type": "code",
   "execution_count": 10,
   "metadata": {},
   "outputs": [],
   "source": [
    "# Adjust the number of pairs if needed\n",
    "num_pairs = 10000  # or any other value less than half of the number of nodes\n",
    "random_pairs = select_random_pairs(hamsterer_train_graph, num_pairs)"
   ]
  },
  {
   "cell_type": "code",
   "execution_count": 11,
   "metadata": {},
   "outputs": [],
   "source": [
    "# Step 2: Compute AA and PA indices for each pair of nodes\n",
    "features = []\n",
    "labels = []\n",
    "\n",
    "for pair in random_pairs:\n",
    "    i, j = pair\n",
    "    aa = adamic_adar(hamsterer_train_graph, i, j)\n",
    "    pa = preferential_attachment(hamsterer_train_graph, i, j)\n",
    "    features.append([aa, pa])\n",
    "    labels.append(1 if (j in hamsterer_train_graph[i]) or (i in hamsterer_train_graph[j]) else 0)\n",
    "\n",
    "features = np.array(features)\n",
    "labels = np.array(labels)"
   ]
  },
  {
   "cell_type": "code",
   "execution_count": 12,
   "metadata": {},
   "outputs": [
    {
     "data": {
      "image/png": "[encoded data removed]",
      "text/plain": [
       "<Figure size 640x480 with 1 Axes>"
      ]
     },
     "metadata": {},
     "output_type": "display_data"
    }
   ],
   "source": [
    "# Step 3: Plot the points\n",
    "connected_pairs = labels == 1\n",
    "unconnected_pairs = labels == 0\n",
    "\n",
    "plt.scatter(features[connected_pairs, 0], features[connected_pairs, 1], color='red', label='Connected')\n",
    "plt.scatter(features[unconnected_pairs, 0], features[unconnected_pairs, 1], color='blue', label='Unconnected')\n",
    "plt.xscale('log')\n",
    "plt.yscale('log')\n",
    "plt.xlabel('Adamic-Adar (AA)')\n",
    "plt.ylabel('Preferential Attachment (PA)')\n",
    "plt.title('AA vs PA for 10,000 Random Pairs')\n",
    "plt.legend()\n",
    "plt.show()"
   ]
  },
  {
   "cell_type": "code",
   "execution_count": 13,
   "metadata": {},
   "outputs": [
    {
     "name": "stdout",
     "output_type": "stream",
     "text": [
      "Number of connected pairs: 65\n",
      "Number of unconnected pairs: 9935\n"
     ]
    }
   ],
   "source": [
    "# Step 4: Analyze the plot\n",
    "num_connected_pairs = connected_pairs.sum()\n",
    "num_unconnected_pairs = unconnected_pairs.sum()\n",
    "print(f\"Number of connected pairs: {num_connected_pairs}\")\n",
    "print(f\"Number of unconnected pairs: {num_unconnected_pairs}\")"
   ]
  },
  {
   "cell_type": "code",
   "execution_count": 14,
   "metadata": {},
   "outputs": [],
   "source": [
    "# Step 5: Discuss the k-NN method\n",
    "# k-NN could work well with these features as they capture some aspects of network structure.\n",
    "# The plot shows that connected pairs tend to cluster together, which is a phenomenon known as\n",
    "# \"homophily\" or \"assortativity\" in network science.\n",
    "# The k-NN method might work well, but experimenting with different values of k and evaluating\n",
    "# performance on a validation set is recommended."
   ]
  },
  {
   "cell_type": "markdown",
   "metadata": {},
   "source": [
    "## Exercise 2: Ranking to predict links"
   ]
  },
  {
   "cell_type": "markdown",
   "metadata": {},
   "source": [
    "### Question 3\n",
    "\n",
    "Write functions that allows to rank pairs of nodes by decreasing score for the four scores computed above: $CN$, $PA$ and $AA$.\n",
    "\n",
    "**Warning**: even if our dataset is rather small, we need to optimize this computation, otherwise it will be too long: we only compute the scores of pairs at distance exactly 2 (because if the distance is 1 these nodes are already connected and if the distance is > 2, they share no neighbors and thus their AA and CN scores are 0).\n"
   ]
  },
  {
   "cell_type": "code",
   "execution_count": 15,
   "metadata": {},
   "outputs": [],
   "source": [
    "def rank_pairs_by_score(graph):\n",
    "    nodes = list(graph.keys())\n",
    "    pairs = list(itertools.combinations(nodes, 2))\n",
    "\n",
    "    # Compute scores for each pair\n",
    "    scores = []\n",
    "    for pair in pairs:\n",
    "        i, j = pair\n",
    "        cn = common_neighbors(graph, i, j)\n",
    "        pa = preferential_attachment(graph, i, j)\n",
    "        aa = adamic_adar(graph, i, j)\n",
    "        scores.append((pair, cn, pa, aa))\n",
    "\n",
    "    # Rank pairs by scores in decreasing order\n",
    "    ranked_pairs = sorted(scores, key=lambda x: (x[1], x[2], x[3]), reverse=True)\n",
    "\n",
    "    return ranked_pairs"
   ]
  },
  {
   "cell_type": "code",
   "execution_count": 16,
   "metadata": {},
   "outputs": [
    {
     "name": "stdout",
     "output_type": "stream",
     "text": [
      "Top 10 Ranked Pairs:\n",
      "Pair: ('237', '238'), CN: 164, PA: 49776, AA: 62.15509530467796\n",
      "Pair: ('3', '177'), CN: 94, PA: 12769, AA: 31.004380758889603\n",
      "Pair: ('45', '44'), CN: 91, PA: 19431, AA: 36.327504599714985\n",
      "Pair: ('176', '3'), CN: 89, PA: 12882, AA: 30.053989663706034\n",
      "Pair: ('45', '47'), CN: 87, PA: 13716, AA: 33.52329831965077\n",
      "Pair: ('176', '177'), CN: 87, PA: 12882, AA: 28.86855224607585\n",
      "Pair: ('178', '177'), CN: 86, PA: 10961, AA: 28.44014267337406\n",
      "Pair: ('46', '47'), CN: 85, PA: 13068, AA: 31.807632001699492\n",
      "Pair: ('3', '178'), CN: 85, PA: 10961, AA: 28.67410368850092\n",
      "Pair: ('46', '45'), CN: 83, PA: 15367, AA: 32.73384967473192\n"
     ]
    }
   ],
   "source": [
    "# Example usage\n",
    "ranked_pairs = rank_pairs_by_score(hamsterer_train_graph)\n",
    "\n",
    "# Print top 10 ranked pairs\n",
    "print(\"Top 10 Ranked Pairs:\")\n",
    "for pair, cn, pa, aa in ranked_pairs[:10]:\n",
    "    print(f\"Pair: {pair}, CN: {cn}, PA: {pa}, AA: {aa}\")"
   ]
  },
  {
   "cell_type": "code",
   "execution_count": 17,
   "metadata": {},
   "outputs": [],
   "source": [
    "def rank_pairs_by_score_v2(graph, method):\n",
    "    nodes = list(graph.keys())\n",
    "    pairs = list(itertools.combinations(nodes, 2))\n",
    "\n",
    "    # Compute scores for each pair based on the specified method\n",
    "    scores = []\n",
    "    for pair in pairs:\n",
    "        i, j = pair\n",
    "        if method == 'CN':\n",
    "            score = common_neighbors(graph, i, j)\n",
    "        elif method == 'PA':\n",
    "            score = preferential_attachment(graph, i, j)\n",
    "        elif method == 'AA':\n",
    "            score = adamic_adar(graph, i, j)\n",
    "        else:\n",
    "            raise ValueError(\"Invalid method. Choose from 'CN', 'PA', or 'AA'.\")\n",
    "        \n",
    "        scores.append((pair, score))\n",
    "\n",
    "    # Rank pairs by scores in decreasing order\n",
    "    ranked_pairs = sorted(scores, key=lambda x: x[1], reverse=True)\n",
    "\n",
    "    return ranked_pairs"
   ]
  },
  {
   "cell_type": "code",
   "execution_count": 18,
   "metadata": {},
   "outputs": [],
   "source": [
    "# Example usage\n",
    "ranked_pairs_CN = rank_pairs_by_score_v2(hamsterer_train_graph, \"CN\")"
   ]
  },
  {
   "cell_type": "code",
   "execution_count": 19,
   "metadata": {},
   "outputs": [
    {
     "name": "stdout",
     "output_type": "stream",
     "text": [
      "Top 10 Ranked Pairs with CN score:\n",
      "Pair: ('237', '238'), CN: 164\n",
      "Pair: ('3', '177'), CN: 94\n",
      "Pair: ('45', '44'), CN: 91\n",
      "Pair: ('176', '3'), CN: 89\n",
      "Pair: ('176', '177'), CN: 87\n",
      "Pair: ('45', '47'), CN: 87\n",
      "Pair: ('178', '177'), CN: 86\n",
      "Pair: ('3', '178'), CN: 85\n",
      "Pair: ('46', '47'), CN: 85\n",
      "Pair: ('176', '178'), CN: 83\n"
     ]
    }
   ],
   "source": [
    "# Print top 10 ranked pairs\n",
    "print(\"Top 10 Ranked Pairs with CN score:\")\n",
    "for pair, cn in ranked_pairs_CN[:10]:\n",
    "    print(f\"Pair: {pair}, CN: {cn}\")"
   ]
  },
  {
   "cell_type": "code",
   "execution_count": 20,
   "metadata": {},
   "outputs": [],
   "source": [
    "# Example usage\n",
    "ranked_pairs_PA = rank_pairs_by_score_v2(hamsterer_train_graph, \"PA\")"
   ]
  },
  {
   "cell_type": "code",
   "execution_count": 21,
   "metadata": {},
   "outputs": [
    {
     "name": "stdout",
     "output_type": "stream",
     "text": [
      "Top 10 Ranked Pairs with PA score:\n",
      "Pair: ('237', '238'), PA: 49776\n",
      "Pair: ('237', '44'), PA: 37332\n",
      "Pair: ('237', '168'), PA: 32940\n",
      "Pair: ('237', '137'), PA: 32696\n",
      "Pair: ('237', '169'), PA: 31232\n",
      "Pair: ('44', '238'), PA: 31212\n",
      "Pair: ('237', '45'), PA: 30988\n",
      "Pair: ('237', '46'), PA: 29524\n",
      "Pair: ('237', '176'), PA: 27816\n",
      "Pair: ('237', '3'), PA: 27572\n"
     ]
    }
   ],
   "source": [
    "# Print top 10 ranked pairs\n",
    "print(\"Top 10 Ranked Pairs with PA score:\")\n",
    "for pair, pa in ranked_pairs_PA[:10]:\n",
    "    print(f\"Pair: {pair}, PA: {pa}\")"
   ]
  },
  {
   "cell_type": "code",
   "execution_count": 22,
   "metadata": {},
   "outputs": [],
   "source": [
    "# Example usage\n",
    "ranked_pairs_AA = rank_pairs_by_score_v2(hamsterer_train_graph, \"AA\")"
   ]
  },
  {
   "cell_type": "code",
   "execution_count": 23,
   "metadata": {},
   "outputs": [
    {
     "name": "stdout",
     "output_type": "stream",
     "text": [
      "Top 10 Ranked Pairs with AA score:\n",
      "Pair: ('237', '238'), AA: 62.15509530467796\n",
      "Pair: ('45', '44'), AA: 36.327504599714985\n",
      "Pair: ('65', '66'), AA: 35.56144196775982\n",
      "Pair: ('169', '87'), AA: 35.09505631677845\n",
      "Pair: ('45', '47'), AA: 33.52329831965077\n",
      "Pair: ('46', '45'), AA: 32.73384967473192\n",
      "Pair: ('46', '47'), AA: 31.807632001699492\n",
      "Pair: ('3', '177'), AA: 31.004380758889603\n",
      "Pair: ('47', '44'), AA: 30.16485288120493\n",
      "Pair: ('176', '3'), AA: 30.053989663706034\n"
     ]
    }
   ],
   "source": [
    "# Print top 10 ranked pairs\n",
    "print(\"Top 10 Ranked Pairs with AA score:\")\n",
    "for pair, aa in ranked_pairs_AA[:10]:\n",
    "    print(f\"Pair: {pair}, AA: {aa}\")"
   ]
  },
  {
   "cell_type": "markdown",
   "metadata": {},
   "source": [
    "### Question 4\n",
    "\n",
    "1) For a given number of predictions $T$ on a given ranking, make a function that computes the Precision and Recall for this prediction. We remind that\n",
    "\n",
    "$$ Pr = \\frac{\\# tp}{\\# predictions}$$ \n",
    "\n",
    "$$ Rc = \\frac{\\# tp}{\\# connected \\ pairs \\ to \\ discover} $$\n",
    "\n",
    "2) Try the following values for $T$: [1000, 2000, 3000, 4000, 5000, 10000, 20000, 30000, 50000, 100000] and plot the corresponding curve in the recall-precision space for the *CN*, *PA* and *AA* index and also for a random ordering. \n",
    "\n",
    "3) Which index seems to be the most efficient with these data? Does it correspond to the example of the course? Do you see any explanation for that?"
   ]
  },
  {
   "cell_type": "code",
   "execution_count": 24,
   "metadata": {},
   "outputs": [],
   "source": [
    "# Define the precision-recall computation function\n",
    "def compute_precision_recall(predictions, connected_pairs_set):\n",
    "    tp = len(set(predictions).intersection(connected_pairs_set))\n",
    "    precision = tp / len(predictions) if len(predictions) > 0 else 0\n",
    "    recall = tp / len(connected_pairs_set)\n",
    "    return precision, recall"
   ]
  },
  {
   "cell_type": "code",
   "execution_count": 25,
   "metadata": {},
   "outputs": [],
   "source": [
    "# Set of connected pairs to discover (replace with your actual connected pairs)\n",
    "connected_pairs_set = set(tuple(pair) for pair in hamsterer_test_graph.keys())\n",
    "\n",
    "# Try different values for T\n",
    "T_values = [1000, 2000, 3000, 4000, 5000, 10000, 20000, 30000, 50000, 100000]\n",
    "\n",
    "# Lists to store precision and recall values for each method\n",
    "precision_CN, recall_CN = [], []\n",
    "precision_PA, recall_PA = [], []\n",
    "precision_AA, recall_AA = [], []\n",
    "precision_random, recall_random = [], []"
   ]
  },
  {
   "cell_type": "code",
   "execution_count": 26,
   "metadata": {},
   "outputs": [],
   "source": [
    "# Compute precision and recall for each method and each T\n",
    "for T in T_values:\n",
    "    # Generate rankings for Common Neighbors\n",
    "    ranked_pairs_CN = rank_pairs_by_score_v2(hamsterer_train_graph, 'CN')\n",
    "    predictions_CN = [pair for pair, _ in ranked_pairs_CN[:T]]\n",
    "    precision, recall = compute_precision_recall(predictions_CN, connected_pairs_set)\n",
    "    precision_CN.append(precision)\n",
    "    recall_CN.append(recall)\n",
    "\n",
    "    # Generate rankings for Preferential Attachment\n",
    "    ranked_pairs_PA = rank_pairs_by_score_v2(hamsterer_train_graph, 'PA')\n",
    "    predictions_PA = [pair for pair, _ in ranked_pairs_PA[:T]]\n",
    "    precision, recall = compute_precision_recall(predictions_PA, connected_pairs_set)\n",
    "    precision_PA.append(precision)\n",
    "    recall_PA.append(recall)\n",
    "\n",
    "    # Generate rankings for Adamic-Adar\n",
    "    ranked_pairs_AA = rank_pairs_by_score_v2(hamsterer_train_graph, 'AA')\n",
    "    predictions_AA = [pair for pair, _ in ranked_pairs_AA[:T]]\n",
    "    precision, recall = compute_precision_recall(predictions_AA, connected_pairs_set)\n",
    "    precision_AA.append(precision)\n",
    "    recall_AA.append(recall)\n",
    "\n",
    "    # Generate random ordering\n",
    "    random_pairs = select_random_pairs(hamsterer_train_graph, T)\n",
    "    predictions_random = random_pairs\n",
    "    precision, recall = compute_precision_recall(predictions_random, connected_pairs_set)\n",
    "    precision_random.append(precision)\n",
    "    recall_random.append(recall)"
   ]
  },
  {
   "cell_type": "code",
   "execution_count": 27,
   "metadata": {},
   "outputs": [
    {
     "data": {
      "image/png": "[encoded data removed]",
      "text/plain": [
       "<Figure size 640x480 with 1 Axes>"
      ]
     },
     "metadata": {},
     "output_type": "display_data"
    }
   ],
   "source": [
    "# Plot the precision-recall curves\n",
    "plt.plot(recall_CN, precision_CN, label='Common Neighbors')\n",
    "plt.plot(recall_PA, precision_PA, label='Preferential Attachment')\n",
    "plt.plot(recall_AA, precision_AA, label='Adamic-Adar')\n",
    "plt.plot(recall_random, precision_random, label='Random Ordering')\n",
    "\n",
    "plt.xlabel('Recall')\n",
    "plt.ylabel('Precision')\n",
    "plt.title('Precision-Recall Curve for Different Methods')\n",
    "plt.legend()\n",
    "plt.show()"
   ]
  }
 ],
 "metadata": {
  "kernelspec": {
   "display_name": "Python 3",
   "language": "python",
   "name": "python3"
  },
  "language_info": {
   "codemirror_mode": {
    "name": "ipython",
    "version": 3
   },
   "file_extension": ".py",
   "mimetype": "text/x-python",
   "name": "python",
   "nbconvert_exporter": "python",
   "pygments_lexer": "ipython3",
   "version": "3.10.11"
  }
 },
 "nbformat": 4,
 "nbformat_minor": 2
}
