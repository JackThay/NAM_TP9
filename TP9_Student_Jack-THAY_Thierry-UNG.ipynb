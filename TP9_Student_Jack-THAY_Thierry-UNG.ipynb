{
 "cells": [
  {
   "cell_type": "markdown",
   "metadata": {},
   "source": [
    "# TP9 (Student version): link prediction using rankings\n",
    "\n",
    "## Students:\n",
    "## Jack Thay - 21201079\n",
    "## Thierry Ung - 3804472\n",
    "\n",
    "We can use the following libraries."
   ]
  },
  {
   "cell_type": "code",
   "execution_count": 73,
   "metadata": {},
   "outputs": [
    {
     "name": "stdout",
     "output_type": "stream",
     "text": [
      "3.7.11 (default, Jul 27 2021, 09:42:29) [MSC v.1916 64 bit (AMD64)]\n"
     ]
    }
   ],
   "source": [
    "import matplotlib.pyplot as plt\n",
    "%matplotlib inline\n",
    "import numpy as np\n",
    "import math\n",
    "import sys\n",
    "import random\n",
    "import time\n",
    "import copy\n",
    "import itertools\n",
    "print(sys.version)"
   ]
  },
  {
   "cell_type": "markdown",
   "metadata": {},
   "source": [
    "## Data"
   ]
  },
  {
   "cell_type": "markdown",
   "metadata": {},
   "source": [
    "The dataset that we use is an old online social network of hamster lovers called *hamsterer*. The links of the dataset are friendship links among users. Download from Moodle the datasets :\n",
    "\n",
    "- hamsterer_train.txt , this is the training dataset that we use to order pairs of nodes (roughly 90% of the full data)\n",
    "\n",
    "- hamsterer_test.txt , this is the test dataset that is the set of \"missing links\" that we are supposed to discover using a link prediction method (roughly 10% of the data).\n",
    "\n",
    "You can load both datasets as dictionary of lists as usual."
   ]
  },
  {
   "cell_type": "code",
   "execution_count": 74,
   "metadata": {},
   "outputs": [],
   "source": [
    "# Code taken from our TP1\n",
    "\n",
    "def load_graph(filename):\n",
    "    # Initialize an empty dictionary for the adjacency list.\n",
    "    adjacency_list = {}\n",
    "    \n",
    "    # Open the specified file for reading.\n",
    "    with open(filename, 'r') as file:\n",
    "        # Loop through each line in the file.\n",
    "        for line in file:\n",
    "            # Check if the line does not start with '#' (comments)\n",
    "            if not line.startswith('#'):\n",
    "                # Split the line into two nodes representing an edge.\n",
    "                edge_info = line.strip().split()\n",
    "                node1, node2 = edge_info[0], edge_info[1]\n",
    "                # Check if node1 is not already in the adjacency list.\n",
    "                if node1 not in adjacency_list:\n",
    "                    # Initialize an empty list for node1 in the adjacency list.\n",
    "                    adjacency_list[node1] = []\n",
    "                # Check if node2 is not already in the adjacency list.\n",
    "                if node2 not in adjacency_list:\n",
    "                    # Initialize an empty list for node2 in the adjacency list.\n",
    "                    adjacency_list[node2] = []\n",
    "                # Add node2 to the adjacency list of node1 (representing an undirected edge).\n",
    "                adjacency_list[node1].append(node2)\n",
    "                # Add node1 to the adjacency list of node2 (since it's an undirected edge).\n",
    "                adjacency_list[node2].append(node1)\n",
    "\n",
    "    # Return the adjacency list representing the undirected graph.\n",
    "    return adjacency_list"
   ]
  },
  {
   "cell_type": "code",
   "execution_count": 75,
   "metadata": {},
   "outputs": [],
   "source": [
    "filename = 'hamsterer_train.txt'\n",
    "hamsterer_train_graph = load_graph(filename)"
   ]
  },
  {
   "cell_type": "code",
   "execution_count": 76,
   "metadata": {},
   "outputs": [],
   "source": [
    "filename = 'hamsterer_test.txt'\n",
    "hamsterer_test_graph = load_graph(filename)"
   ]
  },
  {
   "cell_type": "markdown",
   "metadata": {},
   "source": [
    "## Exercise 1: Features for link prediction"
   ]
  },
  {
   "cell_type": "markdown",
   "metadata": {},
   "source": [
    "### Question 1\n",
    "\n",
    "1) Make a function that, given a pair of nodes $ (i,j) $ in the network, computes the number of Common Neighbors (CN) between these two nodes.\n",
    "\n",
    "2) Do the same thing for the preferential attachment index of $ (i,j) $, we remind that\n",
    "$$ PA(i,j) = |N(i)|.|N(j)| $$\n",
    "\n",
    "3) Do the same thing for the Adamic-Adar index of $ (i,j) $, we remind that\n",
    "$$ AA(i,j) = \\sum _{k \\in N(i) \\cap N(j)} \\frac{1}{log(d_k)} $$\n",
    "\n",
    "where $ N(i) $ is the neighborhood of node $i$ and $ d_k $ the degree of node $k$."
   ]
  },
  {
   "cell_type": "code",
   "execution_count": 77,
   "metadata": {},
   "outputs": [],
   "source": [
    "# Part 1\n",
    "def common_neighbors(graph, i, j):\n",
    "    neighbors_i = set(graph[i])\n",
    "    neighbors_j = set(graph[j])\n",
    "    return len(neighbors_i.intersection(neighbors_j))"
   ]
  },
  {
   "cell_type": "code",
   "execution_count": 78,
   "metadata": {},
   "outputs": [],
   "source": [
    "# Part 2\n",
    "def preferential_attachment(graph, i, j):\n",
    "    degree_i = len(graph[i])\n",
    "    degree_j = len(graph[j])\n",
    "    return degree_i * degree_j"
   ]
  },
  {
   "cell_type": "code",
   "execution_count": 79,
   "metadata": {},
   "outputs": [],
   "source": [
    "# Part 3\n",
    "def adamic_adar(graph, i, j):\n",
    "    neighbors_i = set(graph[i])\n",
    "    neighbors_j = set(graph[j])\n",
    "    common_neighbors = neighbors_i.intersection(neighbors_j)\n",
    "    \n",
    "    adamic_adar_index = 0\n",
    "    for k in common_neighbors:\n",
    "        degree_k = len(graph[k])\n",
    "        adamic_adar_index += 1 / math.log(degree_k) if degree_k > 1 else 0  # Avoid division by zero\n",
    "    \n",
    "    return adamic_adar_index"
   ]
  },
  {
   "cell_type": "code",
   "execution_count": 80,
   "metadata": {},
   "outputs": [
    {
     "name": "stdout",
     "output_type": "stream",
     "text": [
      "1) Common Neighbors between nodes 490 and 211: 4\n",
      "2) Preferential Attachment between nodes 490 and 211: 1512\n",
      "3) Adamic-Adar Index between nodes 490 and 211: 0.8197035060018205\n"
     ]
    }
   ],
   "source": [
    "# Example usage and testing the functions in itself\n",
    "i, j = '490', '211'  # Assuming node labels are strings in the graph\n",
    "\n",
    "# Common Neighbors\n",
    "cn = common_neighbors(hamsterer_train_graph, i, j)\n",
    "print(f\"1) Common Neighbors between nodes {i} and {j}: {cn}\")\n",
    "\n",
    "# Preferential Attachment\n",
    "pa = preferential_attachment(hamsterer_train_graph, i, j)\n",
    "print(f\"2) Preferential Attachment between nodes {i} and {j}: {pa}\")\n",
    "\n",
    "# Adamic-Adar Index\n",
    "aa = adamic_adar(hamsterer_train_graph, i, j)\n",
    "print(f\"3) Adamic-Adar Index between nodes {i} and {j}: {aa}\")"
   ]
  },
  {
   "cell_type": "markdown",
   "metadata": {},
   "source": [
    "### Question 2\n",
    "\n",
    "Select 10000 pairs of nodes randomly in the training dataset.\n",
    "\n",
    "1) Plot the corresponding data points in a $AA$ vs $PA$ space with a red point if the edge exists and a blue point if it doesn't (as in the course). For readability purposes, you should use logarithmic scales.\n",
    "\n",
    "2) Can you compare the number of unconnected pairs in the plot to the number of connected pairs? What is the name of the phenomenon that we have described in the course and that this plot shows?\n",
    "\n",
    "3) Do you think that a $k$-nearest neighbor method would work well with these features? Explain why briefly?"
   ]
  },
  {
   "cell_type": "code",
   "execution_count": 81,
   "metadata": {},
   "outputs": [],
   "source": [
    "def select_random_pairs(graph, num_pairs):\n",
    "    nodes = list(graph.keys())    \n",
    "    pairs = []\n",
    "    \n",
    "    for _ in range(num_pairs):\n",
    "        pair = (random.choice(nodes), random.choice(nodes))\n",
    "        pairs.append(pair)\n",
    "\n",
    "    return pairs"
   ]
  },
  {
   "cell_type": "code",
   "execution_count": 82,
   "metadata": {},
   "outputs": [],
   "source": [
    "# Adjust the number of pairs \"num_pairs\" as needed\n",
    "num_pairs = 10000 \n",
    "random_pairs = select_random_pairs(hamsterer_train_graph, num_pairs)"
   ]
  },
  {
   "cell_type": "code",
   "execution_count": 83,
   "metadata": {},
   "outputs": [],
   "source": [
    "# Step 2: Compute AA and PA indices for each pair of nodes\n",
    "features = []\n",
    "labels = []\n",
    "\n",
    "for pair in random_pairs:\n",
    "    i, j = pair\n",
    "    aa = adamic_adar(hamsterer_train_graph, i, j)\n",
    "    pa = preferential_attachment(hamsterer_train_graph, i, j)\n",
    "    features.append([aa, pa])\n",
    "    labels.append(1 if (j in hamsterer_train_graph[i]) or (i in hamsterer_train_graph[j]) else 0)\n",
    "\n",
    "features = np.array(features)\n",
    "labels = np.array(labels)"
   ]
  },
  {
   "cell_type": "code",
   "execution_count": 84,
   "metadata": {},
   "outputs": [
    {
     "data": {
      "image/png": "[encoded data removed]",
      "text/plain": [
       "<Figure size 640x480 with 1 Axes>"
      ]
     },
     "metadata": {},
     "output_type": "display_data"
    }
   ],
   "source": [
    "# Step 3: Plot the points\n",
    "connected_pairs = labels == 1\n",
    "unconnected_pairs = labels == 0\n",
    "\n",
    "plt.scatter(features[connected_pairs, 0], features[connected_pairs, 1], color='red', label='Connected')\n",
    "plt.scatter(features[unconnected_pairs, 0], features[unconnected_pairs, 1], color='blue', label='Unconnected')\n",
    "plt.xscale('log')\n",
    "plt.yscale('log')\n",
    "plt.xlabel('Adamic-Adar (AA)')\n",
    "plt.ylabel('Preferential Attachment (PA)')\n",
    "plt.title('AA vs PA for 10,000 Random Pairs')\n",
    "plt.legend()\n",
    "plt.show()"
   ]
  },
  {
   "cell_type": "code",
   "execution_count": 85,
   "metadata": {},
   "outputs": [
    {
     "name": "stdout",
     "output_type": "stream",
     "text": [
      "Number of connected pairs (red): 69\n",
      "Number of unconnected pairs (blue): 9931\n"
     ]
    }
   ],
   "source": [
    "# Step 4: Analyze the plot\n",
    "num_connected_pairs = connected_pairs.sum()\n",
    "num_unconnected_pairs = unconnected_pairs.sum()\n",
    "print(f\"Number of connected pairs (red): {num_connected_pairs}\")\n",
    "print(f\"Number of unconnected pairs (blue): {num_unconnected_pairs}\")"
   ]
  },
  {
   "cell_type": "markdown",
   "metadata": {},
   "source": [
    "### Question 2.2 Answer :\n",
    "\n",
    "In the above plot, there are significantly more unconnected pairs (blue) than connected pairs (red). This is known as the scale-free property of social networks. In scale-free networks, a small number of nodes have a large number of connections, while the majority of nodes have a small number of connections. The scale-free property is thought to arise from the preferential attachment mechanism, where new nodes are more likely to connect to nodes that already have a high number of connections or highly connected. This can lead to the formation of a few hubs that connect to many other nodes, while most nodes only connect to a few other nodes."
   ]
  },
  {
   "cell_type": "markdown",
   "metadata": {},
   "source": [
    "### Question 2.3 Answer :\n",
    "\n",
    "Yes, a k-nearest neighbor method would work well with these features. The Adamic-Adar (AA) and Preferential Attachment (PA) measures are both designed to capture the local structure of a network, and they are both based on the number of shared neighbors between two nodes. This implies that they would be good features for a k-nearest neighbor method, which is a local learning algorithm. Additionally, the scale-free property of social networks means that there will be a large number of similar pairs of nodes, which will help to improve the performance of the k-nearest neighbor method."
   ]
  },
  {
   "cell_type": "markdown",
   "metadata": {},
   "source": [
    "## Exercise 2: Ranking to predict links"
   ]
  },
  {
   "cell_type": "markdown",
   "metadata": {},
   "source": [
    "### Question 3\n",
    "\n",
    "Write functions that allows to rank pairs of nodes by decreasing score for the four scores computed above: $CN$, $PA$ and $AA$.\n",
    "\n",
    "**Warning**: even if our dataset is rather small, we need to optimize this computation, otherwise it will be too long: we only compute the scores of pairs at distance exactly 2 (because if the distance is 1 these nodes are already connected and if the distance is > 2, they share no neighbors and thus their AA and CN scores are 0).\n"
   ]
  },
  {
   "cell_type": "code",
   "execution_count": 86,
   "metadata": {},
   "outputs": [],
   "source": [
    "# Defining functions to be used later\n",
    "def rank_pairs_by_score(graph): #this function will sort while taking into account CN, PA and AA\n",
    "    nodes = list(graph.keys())\n",
    "    pairs = list(itertools.combinations(nodes, 2))\n",
    "\n",
    "    # Compute scores for each pair\n",
    "    scores = []\n",
    "    for pair in pairs:\n",
    "        i, j = pair\n",
    "        cn = common_neighbors(graph, i, j)\n",
    "        pa = preferential_attachment(graph, i, j)\n",
    "        aa = adamic_adar(graph, i, j)\n",
    "        scores.append((pair, cn, pa, aa))\n",
    "\n",
    "    # Rank pairs by scores in decreasing order\n",
    "    ranked_pairs = sorted(scores, key=lambda x: (x[1], x[2], x[3]), reverse=True)\n",
    "\n",
    "    return ranked_pairs"
   ]
  },
  {
   "cell_type": "code",
   "execution_count": 87,
   "metadata": {},
   "outputs": [
    {
     "name": "stdout",
     "output_type": "stream",
     "text": [
      "Top 10 Ranked Pairs:\n",
      "Pair: ('237', '238'), CN: 164, PA: 49776, AA: 62.15509530467798\n",
      "Pair: ('3', '177'), CN: 94, PA: 12769, AA: 31.004380758889603\n",
      "Pair: ('45', '44'), CN: 91, PA: 19431, AA: 36.32750459971499\n",
      "Pair: ('176', '3'), CN: 89, PA: 12882, AA: 30.053989663706027\n",
      "Pair: ('45', '47'), CN: 87, PA: 13716, AA: 33.523298319650785\n",
      "Pair: ('176', '177'), CN: 87, PA: 12882, AA: 28.86855224607585\n",
      "Pair: ('178', '177'), CN: 86, PA: 10961, AA: 28.440142673374062\n",
      "Pair: ('46', '47'), CN: 85, PA: 13068, AA: 31.807632001699506\n",
      "Pair: ('3', '178'), CN: 85, PA: 10961, AA: 28.67410368850092\n",
      "Pair: ('46', '45'), CN: 83, PA: 15367, AA: 32.73384967473194\n"
     ]
    }
   ],
   "source": [
    "# Example usage and testing the rank_pairs_by_score() function\n",
    "ranked_pairs = rank_pairs_by_score(hamsterer_train_graph)\n",
    "\n",
    "# Print top 10 ranked pairs\n",
    "print(\"Top 10 Ranked Pairs:\")\n",
    "for pair, cn, pa, aa in ranked_pairs[:10]:\n",
    "    print(f\"Pair: {pair}, CN: {cn}, PA: {pa}, AA: {aa}\")"
   ]
  },
  {
   "cell_type": "code",
   "execution_count": 88,
   "metadata": {},
   "outputs": [],
   "source": [
    "def rank_pairs_by_score_v2(graph, method): # \"v2\" will only sort a specific method, chosen by the user\n",
    "    nodes = list(graph.keys())\n",
    "    pairs = list(itertools.combinations(nodes, 2))\n",
    "\n",
    "    # Compute scores for each pair based on the specified method\n",
    "    scores = []\n",
    "    for pair in pairs:\n",
    "        i, j = pair\n",
    "        if method == 'CN':\n",
    "            score = common_neighbors(graph, i, j)\n",
    "        elif method == 'PA':\n",
    "            score = preferential_attachment(graph, i, j)\n",
    "        elif method == 'AA':\n",
    "            score = adamic_adar(graph, i, j)\n",
    "        else:\n",
    "            raise ValueError(\"<!>Invalid method. Choose from 'CN', 'PA', or 'AA'. Use CAPITAL LETTERS<!>\")\n",
    "        \n",
    "        scores.append((pair, score))\n",
    "\n",
    "    # Rank pairs by scores in decreasing order\n",
    "    ranked_pairs = sorted(scores, key=lambda x: x[1], reverse=True)\n",
    "\n",
    "    return ranked_pairs"
   ]
  },
  {
   "cell_type": "code",
   "execution_count": 89,
   "metadata": {},
   "outputs": [],
   "source": [
    "# Example usage and testing the previous function, in this cas, we chose CN, but PA or AA can be used\n",
    "ranked_pairs_CN = rank_pairs_by_score_v2(hamsterer_train_graph, \"CN\")"
   ]
  },
  {
   "cell_type": "code",
   "execution_count": 90,
   "metadata": {},
   "outputs": [
    {
     "name": "stdout",
     "output_type": "stream",
     "text": [
      "Top 10 Ranked Pairs with CN score:\n",
      "Pair: ('237', '238'), CN: 164\n",
      "Pair: ('3', '177'), CN: 94\n",
      "Pair: ('45', '44'), CN: 91\n",
      "Pair: ('176', '3'), CN: 89\n",
      "Pair: ('176', '177'), CN: 87\n",
      "Pair: ('45', '47'), CN: 87\n",
      "Pair: ('178', '177'), CN: 86\n",
      "Pair: ('3', '178'), CN: 85\n",
      "Pair: ('46', '47'), CN: 85\n",
      "Pair: ('176', '178'), CN: 83\n"
     ]
    }
   ],
   "source": [
    "# Print top 10 ranked pairs\n",
    "print(\"Top 10 Ranked Pairs with CN score:\")\n",
    "for pair, cn in ranked_pairs_CN[:10]:\n",
    "    print(f\"Pair: {pair}, CN: {cn}\")"
   ]
  },
  {
   "cell_type": "code",
   "execution_count": 91,
   "metadata": {},
   "outputs": [],
   "source": [
    "# Example usage and testing with \"PA\"\n",
    "ranked_pairs_PA = rank_pairs_by_score_v2(hamsterer_train_graph, \"PA\")"
   ]
  },
  {
   "cell_type": "code",
   "execution_count": 92,
   "metadata": {},
   "outputs": [
    {
     "name": "stdout",
     "output_type": "stream",
     "text": [
      "Top 10 Ranked Pairs with PA score:\n",
      "Pair: ('237', '238'), PA: 49776\n",
      "Pair: ('237', '44'), PA: 37332\n",
      "Pair: ('237', '168'), PA: 32940\n",
      "Pair: ('237', '137'), PA: 32696\n",
      "Pair: ('237', '169'), PA: 31232\n",
      "Pair: ('44', '238'), PA: 31212\n",
      "Pair: ('237', '45'), PA: 30988\n",
      "Pair: ('237', '46'), PA: 29524\n",
      "Pair: ('237', '176'), PA: 27816\n",
      "Pair: ('237', '3'), PA: 27572\n"
     ]
    }
   ],
   "source": [
    "# Print top 10 ranked pairs\n",
    "print(\"Top 10 Ranked Pairs with PA score:\")\n",
    "for pair, pa in ranked_pairs_PA[:10]:\n",
    "    print(f\"Pair: {pair}, PA: {pa}\")"
   ]
  },
  {
   "cell_type": "code",
   "execution_count": 93,
   "metadata": {},
   "outputs": [],
   "source": [
    "# Example usage, this time we're testint with \"AA\"\n",
    "ranked_pairs_AA = rank_pairs_by_score_v2(hamsterer_train_graph, \"AA\")"
   ]
  },
  {
   "cell_type": "code",
   "execution_count": 94,
   "metadata": {},
   "outputs": [
    {
     "name": "stdout",
     "output_type": "stream",
     "text": [
      "Top 10 Ranked Pairs with AA score:\n",
      "Pair: ('237', '238'), AA: 62.15509530467798\n",
      "Pair: ('45', '44'), AA: 36.32750459971499\n",
      "Pair: ('65', '66'), AA: 35.56144196775984\n",
      "Pair: ('169', '87'), AA: 35.09505631677845\n",
      "Pair: ('45', '47'), AA: 33.523298319650785\n",
      "Pair: ('46', '45'), AA: 32.73384967473194\n",
      "Pair: ('46', '47'), AA: 31.807632001699506\n",
      "Pair: ('3', '177'), AA: 31.004380758889603\n",
      "Pair: ('47', '44'), AA: 30.164852881204947\n",
      "Pair: ('176', '3'), AA: 30.053989663706027\n"
     ]
    }
   ],
   "source": [
    "# Print top 10 ranked pairs\n",
    "print(\"Top 10 Ranked Pairs with AA score:\")\n",
    "for pair, aa in ranked_pairs_AA[:10]:\n",
    "    print(f\"Pair: {pair}, AA: {aa}\")"
   ]
  },
  {
   "cell_type": "markdown",
   "metadata": {},
   "source": [
    "### Question 4\n",
    "\n",
    "1) For a given number of predictions $T$ on a given ranking, make a function that computes the Precision and Recall for this prediction. We remind that\n",
    "\n",
    "$$ Pr = \\frac{\\# tp}{\\# predictions}$$ \n",
    "\n",
    "$$ Rc = \\frac{\\# tp}{\\# connected \\ pairs \\ to \\ discover} $$\n",
    "\n",
    "2) Try the following values for $T$: [1000, 2000, 3000, 4000, 5000, 10000, 20000, 30000, 50000, 100000] and plot the corresponding curve in the recall-precision space for the *CN*, *PA* and *AA* index and also for a random ordering. \n",
    "\n",
    "3) Which index seems to be the most efficient with these data? Does it correspond to the example of the course? Do you see any explanation for that?"
   ]
  },
  {
   "cell_type": "code",
   "execution_count": 95,
   "metadata": {},
   "outputs": [],
   "source": [
    "def compute_precision_recall(true_positives, total_predictions, total_connected_pairs):\n",
    "    precision = true_positives / total_predictions\n",
    "    recall = true_positives / total_connected_pairs\n",
    "    return precision, recall"
   ]
  },
  {
   "cell_type": "code",
   "execution_count": 96,
   "metadata": {},
   "outputs": [],
   "source": [
    "def calculate_true_positives(top_T_pairs, test_graph):\n",
    "    true_positives = 0\n",
    "    for pair, _ in top_T_pairs:\n",
    "        if pair[1] in test_graph.get(pair[0], []):  # Check if the pair exists in the test graph\n",
    "            true_positives += 1\n",
    "    return true_positives"
   ]
  },
  {
   "cell_type": "code",
   "execution_count": 97,
   "metadata": {},
   "outputs": [],
   "source": [
    "def calculate_total_connected_pairs(test_graph):\n",
    "    total_connected_pairs = 0\n",
    "    for node in test_graph:\n",
    "        total_connected_pairs += len(test_graph[node])\n",
    "    return total_connected_pairs // 2  # Assuming an undirected graph, so each pair is counted twice"
   ]
  },
  {
   "cell_type": "code",
   "execution_count": 98,
   "metadata": {},
   "outputs": [],
   "source": [
    "def rank_random_pairs(graph, num_pairs):\n",
    "    nodes = list(graph.keys())\n",
    "    random_pairs = [(random.choice(nodes), random.choice(nodes)) for _ in range(num_pairs)]\n",
    "    random_scores = [random.random() for _ in range(num_pairs)]  # Assign random scores\n",
    "    \n",
    "    # Combine pairs and scores\n",
    "    ranked_pairs = list(zip(random_pairs, random_scores))\n",
    "    \n",
    "    # Rank pairs by scores in decreasing order\n",
    "    ranked_pairs = sorted(ranked_pairs, key=lambda x: x[1], reverse=True)\n",
    "    \n",
    "    return ranked_pairs"
   ]
  },
  {
   "cell_type": "code",
   "execution_count": 99,
   "metadata": {},
   "outputs": [
    {
     "data": {
      "image/png": "[encoded data removed]",
      "text/plain": [
       "<Figure size 640x480 with 1 Axes>"
      ]
     },
     "metadata": {},
     "output_type": "display_data"
    }
   ],
   "source": [
    "# WARNING, this cell may take a few minutes to load\n",
    "methods = ['CN', 'PA', 'AA', 'Random']\n",
    "\n",
    "for method in methods:\n",
    "    precision_values = []\n",
    "    recall_values = []\n",
    "    \n",
    "    for T in [1000, 2000, 3000, 4000, 5000, 10000, 20000, 30000, 50000, 100000]:\n",
    "        if method == 'Random':\n",
    "            # Get random pairs and scores\n",
    "            top_T_pairs = rank_random_pairs(hamsterer_train_graph, T)\n",
    "        else:\n",
    "            # Get top T ranked pairs based on the method\n",
    "            top_T_pairs = rank_pairs_by_score_v2(hamsterer_train_graph, method)[:T]\n",
    "\n",
    "        # Calculate true positives\n",
    "        true_positives = calculate_true_positives(top_T_pairs, hamsterer_test_graph)\n",
    "\n",
    "        # Calculate total connected pairs to discover\n",
    "        total_connected_pairs = calculate_total_connected_pairs(hamsterer_test_graph)\n",
    "\n",
    "        # Compute precision and recall\n",
    "        precision, recall = compute_precision_recall(true_positives, T, total_connected_pairs)\n",
    "\n",
    "        precision_values.append(precision)\n",
    "        recall_values.append(recall)\n",
    "\n",
    "    # Plotting\n",
    "    plt.plot(recall_values, precision_values, label=method)\n",
    "\n",
    "plt.xlabel('Recall')\n",
    "plt.ylabel('Precision')\n",
    "plt.title('Precision-Recall Curve for Different Methods')\n",
    "plt.legend()\n",
    "plt.show()"
   ]
  },
  {
   "cell_type": "markdown",
   "metadata": {},
   "source": [
    "### Answer :\n",
    "\n",
    "Based on the precision-recall curve, the Adamic-Adar (AA) index is the most efficient index for the hamsterer dataset. It outperforms the other indexes, Common Neighbors (CN) index and the Random index, across the entire range of recall values. This makes us believe that the AA index is better at capturing the relevant structural information in the hamsterer network for link prediction tasks.\n",
    "\n",
    "**Does it actually correspond to the example of the course?** No, not perfectly to the example in the course, simply because the datasets are different, one is about friendship links among users and the other is about phonecall network.\n",
    "\n",
    "**Do we see any explanation for that?** The Adamic-Adar index gives more weight to weak ties than the CN index, which may explain its superior performance on the hamsterer dataset. Weak ties are connections between nodes that are not very closely related, but they can still be valuable and used for information diffusion and social cohesion. The presence of weak ties in the hamsterer network may give the AA index an advantage over other indices that do not consider weak ties as heavily.\n",
    "\n",
    "The Preferential Attachment (PA) index also performs well with these data, but it is not as efficient as the AA index. The PA index tends to favor highly connected nodes when making predictions, which can lead to an over-representation of existing links in the network. This limitation of the PA index may explain why it falls behind the AA index in terms of overall performance.\n",
    "\n",
    "To make it short, the Adamic-Adar index seems to be the most efficient index for link prediction in the hamsterer dataset. Its ability to capture the importance of weak ties and avoid the limitations of the PA index make it a superior choice for this task."
   ]
  },
  {
   "cell_type": "code",
   "execution_count": null,
   "metadata": {},
   "outputs": [],
   "source": []
  }
 ],
 "metadata": {
  "kernelspec": {
   "display_name": "Python 3 (ipykernel)",
   "language": "python",
   "name": "python3"
  },
  "language_info": {
   "codemirror_mode": {
    "name": "ipython",
    "version": 3
   },
   "file_extension": ".py",
   "mimetype": "text/x-python",
   "name": "python",
   "nbconvert_exporter": "python",
   "pygments_lexer": "ipython3",
   "version": "3.7.11"
  }
 },
 "nbformat": 4,
 "nbformat_minor": 2
}
